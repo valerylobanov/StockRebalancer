{
 "cells": [
  {
   "cell_type": "code",
   "execution_count": 1,
   "id": "1cc85a6a-45f9-4b4a-8828-59bfd627721a",
   "metadata": {},
   "outputs": [],
   "source": [
    "import pandas as pd\n",
    "import numpy as np\n",
    "#!pip install lxml"
   ]
  },
  {
   "cell_type": "markdown",
   "id": "83236722-6f18-4d3c-8335-96fae1ce1b6d",
   "metadata": {
    "jp-MarkdownHeadingCollapsed": true
   },
   "source": [
    "# Target portfolio percentages"
   ]
  },
  {
   "cell_type": "code",
   "execution_count": 2,
   "id": "493a3b22-ac4e-4afd-b4a1-df090a6882bd",
   "metadata": {},
   "outputs": [
    {
     "data": {
      "text/html": [
       "<div>\n",
       "<style scoped>\n",
       "    .dataframe tbody tr th:only-of-type {\n",
       "        vertical-align: middle;\n",
       "    }\n",
       "\n",
       "    .dataframe tbody tr th {\n",
       "        vertical-align: top;\n",
       "    }\n",
       "\n",
       "    .dataframe thead th {\n",
       "        text-align: right;\n",
       "    }\n",
       "</style>\n",
       "<table border=\"1\" class=\"dataframe\">\n",
       "  <thead>\n",
       "    <tr style=\"text-align: right;\">\n",
       "      <th></th>\n",
       "      <th>percent</th>\n",
       "    </tr>\n",
       "    <tr>\n",
       "      <th>ticker</th>\n",
       "      <th></th>\n",
       "    </tr>\n",
       "  </thead>\n",
       "  <tbody>\n",
       "    <tr>\n",
       "      <th>LKOH</th>\n",
       "      <td>14.85</td>\n",
       "    </tr>\n",
       "    <tr>\n",
       "      <th>SBER</th>\n",
       "      <td>13.22</td>\n",
       "    </tr>\n",
       "    <tr>\n",
       "      <th>GAZP</th>\n",
       "      <td>10.32</td>\n",
       "    </tr>\n",
       "    <tr>\n",
       "      <th>TATN</th>\n",
       "      <td>6.65</td>\n",
       "    </tr>\n",
       "    <tr>\n",
       "      <th>GMKN</th>\n",
       "      <td>4.52</td>\n",
       "    </tr>\n",
       "  </tbody>\n",
       "</table>\n",
       "</div>"
      ],
      "text/plain": [
       "        percent\n",
       "ticker         \n",
       "LKOH      14.85\n",
       "SBER      13.22\n",
       "GAZP      10.32\n",
       "TATN       6.65\n",
       "GMKN       4.52"
      ]
     },
     "execution_count": 2,
     "metadata": {},
     "output_type": "execute_result"
    }
   ],
   "source": [
    "tgtPercentage = pd.read_csv('moex.csv',\\\n",
    "                 dtype={'ticker': np.str_, 'percent': np.float64},\\\n",
    "                 index_col='ticker'\n",
    "                    )\n",
    "tgtPercentage.head()"
   ]
  },
  {
   "cell_type": "markdown",
   "id": "8699f88a-c04c-456e-8646-a73405cd2e09",
   "metadata": {},
   "source": [
    "# Stocks in current portfolio"
   ]
  },
  {
   "cell_type": "code",
   "execution_count": 3,
   "id": "c0b14e9f-91a8-4160-aeb7-9f47e0f4e55d",
   "metadata": {},
   "outputs": [
    {
     "data": {
      "text/html": [
       "<div>\n",
       "<style scoped>\n",
       "    .dataframe tbody tr th:only-of-type {\n",
       "        vertical-align: middle;\n",
       "    }\n",
       "\n",
       "    .dataframe tbody tr th {\n",
       "        vertical-align: top;\n",
       "    }\n",
       "\n",
       "    .dataframe thead th {\n",
       "        text-align: right;\n",
       "    }\n",
       "</style>\n",
       "<table border=\"1\" class=\"dataframe\">\n",
       "  <thead>\n",
       "    <tr style=\"text-align: right;\">\n",
       "      <th></th>\n",
       "      <th>qty</th>\n",
       "    </tr>\n",
       "    <tr>\n",
       "      <th>ticker</th>\n",
       "      <th></th>\n",
       "    </tr>\n",
       "  </thead>\n",
       "  <tbody>\n",
       "    <tr>\n",
       "      <th>LKOH</th>\n",
       "      <td>7</td>\n",
       "    </tr>\n",
       "    <tr>\n",
       "      <th>NVTK</th>\n",
       "      <td>11</td>\n",
       "    </tr>\n",
       "    <tr>\n",
       "      <th>GMKN</th>\n",
       "      <td>110</td>\n",
       "    </tr>\n",
       "    <tr>\n",
       "      <th>SBER</th>\n",
       "      <td>130</td>\n",
       "    </tr>\n",
       "    <tr>\n",
       "      <th>TATN</th>\n",
       "      <td>31</td>\n",
       "    </tr>\n",
       "  </tbody>\n",
       "</table>\n",
       "</div>"
      ],
      "text/plain": [
       "        qty\n",
       "ticker     \n",
       "LKOH      7\n",
       "NVTK     11\n",
       "GMKN    110\n",
       "SBER    130\n",
       "TATN     31"
      ]
     },
     "execution_count": 3,
     "metadata": {},
     "output_type": "execute_result"
    }
   ],
   "source": [
    "currentQty = pd.read_csv('current.csv',\\\n",
    "                 dtype={'ticker': np.str_, 'qty': np.int_},\\\n",
    "                  index_col='ticker'\n",
    "                    )\n",
    "currentQty.head()"
   ]
  },
  {
   "cell_type": "markdown",
   "id": "b8740c2f-75e3-422d-a312-e58e6c105791",
   "metadata": {},
   "source": [
    "# Create Portfolio with target and current state and rebalance it"
   ]
  },
  {
   "cell_type": "code",
   "execution_count": 4,
   "id": "a3f12b59-5b53-4521-98dc-df5a22304062",
   "metadata": {},
   "outputs": [
    {
     "data": {
      "text/html": [
       "<div>\n",
       "<style scoped>\n",
       "    .dataframe tbody tr th:only-of-type {\n",
       "        vertical-align: middle;\n",
       "    }\n",
       "\n",
       "    .dataframe tbody tr th {\n",
       "        vertical-align: top;\n",
       "    }\n",
       "\n",
       "    .dataframe thead th {\n",
       "        text-align: right;\n",
       "    }\n",
       "</style>\n",
       "<table border=\"1\" class=\"dataframe\">\n",
       "  <thead>\n",
       "    <tr style=\"text-align: right;\">\n",
       "      <th></th>\n",
       "      <th>chgQty</th>\n",
       "      <th>chgValue</th>\n",
       "    </tr>\n",
       "    <tr>\n",
       "      <th>ticker</th>\n",
       "      <th></th>\n",
       "      <th></th>\n",
       "    </tr>\n",
       "  </thead>\n",
       "  <tbody>\n",
       "    <tr>\n",
       "      <th>GAZP</th>\n",
       "      <td>540.00</td>\n",
       "      <td>69,195.60</td>\n",
       "    </tr>\n",
       "    <tr>\n",
       "      <th>LKOH</th>\n",
       "      <td>10.00</td>\n",
       "      <td>64,105.00</td>\n",
       "    </tr>\n",
       "    <tr>\n",
       "      <th>SBER</th>\n",
       "      <td>220.00</td>\n",
       "      <td>61,839.80</td>\n",
       "    </tr>\n",
       "    <tr>\n",
       "      <th>TATN</th>\n",
       "      <td>49.00</td>\n",
       "      <td>30,076.20</td>\n",
       "    </tr>\n",
       "    <tr>\n",
       "      <th>TCSG</th>\n",
       "      <td>8.00</td>\n",
       "      <td>20,568.00</td>\n",
       "    </tr>\n",
       "    <tr>\n",
       "      <th>GMKN</th>\n",
       "      <td>160.00</td>\n",
       "      <td>19,660.80</td>\n",
       "    </tr>\n",
       "    <tr>\n",
       "      <th>NVTK</th>\n",
       "      <td>15.00</td>\n",
       "      <td>15,270.00</td>\n",
       "    </tr>\n",
       "  </tbody>\n",
       "</table>\n",
       "</div>"
      ],
      "text/plain": [
       "        chgQty  chgValue\n",
       "ticker                  \n",
       "GAZP    540.00 69,195.60\n",
       "LKOH     10.00 64,105.00\n",
       "SBER    220.00 61,839.80\n",
       "TATN     49.00 30,076.20\n",
       "TCSG      8.00 20,568.00\n",
       "GMKN    160.00 19,660.80\n",
       "NVTK     15.00 15,270.00"
      ]
     },
     "execution_count": 4,
     "metadata": {},
     "output_type": "execute_result"
    }
   ],
   "source": [
    "import Portfolio as pf\n",
    "p = pf.Portfolio()\n",
    "p.setTarget(tgtPercentage)\n",
    "p.setCurrent(currentQty,600000)\n",
    "r = p.getRebalanceChanges()\n",
    "r"
   ]
  },
  {
   "cell_type": "code",
   "execution_count": 5,
   "id": "7d7b5bd7-4e42-417d-b1a2-2b68f9c0658f",
   "metadata": {},
   "outputs": [
    {
     "data": {
      "text/plain": [
       "280715.39999999997"
      ]
     },
     "execution_count": 5,
     "metadata": {},
     "output_type": "execute_result"
    }
   ],
   "source": [
    "r['chgValue'].sum()"
   ]
  },
  {
   "cell_type": "code",
   "execution_count": 6,
   "id": "5780bf4a-3cba-4933-9ee9-02070c8fbcb3",
   "metadata": {},
   "outputs": [
    {
     "data": {
      "text/plain": [
       "319284.60000000003"
      ]
     },
     "execution_count": 6,
     "metadata": {},
     "output_type": "execute_result"
    }
   ],
   "source": [
    "p.rebalance()\n",
    "c = p.getCurrent()\n",
    "c['value'].sum()\n",
    "p.getCashValue()"
   ]
  },
  {
   "cell_type": "code",
   "execution_count": 10,
   "id": "0271f165-189d-49c9-bca4-ea485abc5ed9",
   "metadata": {},
   "outputs": [
    {
     "data": {
      "text/plain": [
       "319284.60000000003"
      ]
     },
     "execution_count": 10,
     "metadata": {},
     "output_type": "execute_result"
    }
   ],
   "source": [
    "p.rebalance()\n",
    "c = p.getCurrent()\n",
    "c['value'].sum()\n",
    "p.getCashValue()"
   ]
  },
  {
   "cell_type": "code",
   "execution_count": null,
   "id": "d9793298-533a-4baa-8de8-2a57911eab0a",
   "metadata": {},
   "outputs": [],
   "source": []
  }
 ],
 "metadata": {
  "kernelspec": {
   "display_name": "Python 3 (ipykernel)",
   "language": "python",
   "name": "python3"
  },
  "language_info": {
   "codemirror_mode": {
    "name": "ipython",
    "version": 3
   },
   "file_extension": ".py",
   "mimetype": "text/x-python",
   "name": "python",
   "nbconvert_exporter": "python",
   "pygments_lexer": "ipython3",
   "version": "3.12.3"
  }
 },
 "nbformat": 4,
 "nbformat_minor": 5
}
