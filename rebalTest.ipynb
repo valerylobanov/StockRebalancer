{
 "cells": [
  {
   "cell_type": "code",
   "execution_count": 291,
   "metadata": {},
   "outputs": [
    {
     "data": {
      "text/html": [
       "<div>\n",
       "<style scoped>\n",
       "    .dataframe tbody tr th:only-of-type {\n",
       "        vertical-align: middle;\n",
       "    }\n",
       "\n",
       "    .dataframe tbody tr th {\n",
       "        vertical-align: top;\n",
       "    }\n",
       "\n",
       "    .dataframe thead th {\n",
       "        text-align: right;\n",
       "    }\n",
       "</style>\n",
       "<table border=\"1\" class=\"dataframe\">\n",
       "  <thead>\n",
       "    <tr style=\"text-align: right;\">\n",
       "      <th></th>\n",
       "      <th>qty</th>\n",
       "      <th>price</th>\n",
       "      <th>lotSize</th>\n",
       "      <th>percentTgt</th>\n",
       "    </tr>\n",
       "  </thead>\n",
       "  <tbody>\n",
       "    <tr>\n",
       "      <th>a</th>\n",
       "      <td>1</td>\n",
       "      <td>1</td>\n",
       "      <td>1</td>\n",
       "      <td>0.3</td>\n",
       "    </tr>\n",
       "    <tr>\n",
       "      <th>b</th>\n",
       "      <td>2</td>\n",
       "      <td>2</td>\n",
       "      <td>1</td>\n",
       "      <td>0.2</td>\n",
       "    </tr>\n",
       "    <tr>\n",
       "      <th>c</th>\n",
       "      <td>30</td>\n",
       "      <td>3</td>\n",
       "      <td>10</td>\n",
       "      <td>0.7</td>\n",
       "    </tr>\n",
       "    <tr>\n",
       "      <th>@RUB</th>\n",
       "      <td>1000</td>\n",
       "      <td>1</td>\n",
       "      <td>1</td>\n",
       "      <td>0.0</td>\n",
       "    </tr>\n",
       "  </tbody>\n",
       "</table>\n",
       "</div>"
      ],
      "text/plain": [
       "       qty  price  lotSize  percentTgt\n",
       "a        1      1        1         0.3\n",
       "b        2      2        1         0.2\n",
       "c       30      3       10         0.7\n",
       "@RUB  1000      1        1         0.0"
      ]
     },
     "execution_count": 291,
     "metadata": {},
     "output_type": "execute_result"
    }
   ],
   "source": [
    "import pandas as pd\n",
    "\n",
    "data = {\n",
    "  \"qty\": [1, 2, 30, 1000],\n",
    "  'price': [1,2,3,1],\n",
    "  'lotSize': [1,1,10,1],\n",
    "  'percentTgt': [.3,.2,.7,0]\n",
    "}\n",
    "\n",
    "df = pd.DataFrame(data, index = [\"a\", \"b\", \"c\",'@RUB'])\n",
    "\n",
    "df"
   ]
  },
  {
   "cell_type": "code",
   "execution_count": 292,
   "metadata": {},
   "outputs": [
    {
     "name": "stderr",
     "output_type": "stream",
     "text": [
      "/var/folders/z8/x3vvmmj13bgbk06t2hnjqt_00000gn/T/ipykernel_1103/3979193384.py:38: FutureWarning: Setting an item of incompatible dtype is deprecated and will raise an error in a future version of pandas. Value '[0.25       0.58333333 0.        ]' has dtype incompatible with int64, please explicitly cast to a compatible dtype first.\n",
      "  df.loc[ abs(df['valueChg']) > tolerance, 'percentTgt1'] = df['percentTgt']\n"
     ]
    },
    {
     "data": {
      "text/html": [
       "<div>\n",
       "<style scoped>\n",
       "    .dataframe tbody tr th:only-of-type {\n",
       "        vertical-align: middle;\n",
       "    }\n",
       "\n",
       "    .dataframe tbody tr th {\n",
       "        vertical-align: top;\n",
       "    }\n",
       "\n",
       "    .dataframe thead th {\n",
       "        text-align: right;\n",
       "    }\n",
       "</style>\n",
       "<table border=\"1\" class=\"dataframe\">\n",
       "  <thead>\n",
       "    <tr style=\"text-align: right;\">\n",
       "      <th></th>\n",
       "      <th>lotPrice</th>\n",
       "      <th>value</th>\n",
       "      <th>valueChg</th>\n",
       "      <th>percentTgt</th>\n",
       "      <th>valueTgt</th>\n",
       "      <th>lotQtyChg</th>\n",
       "    </tr>\n",
       "  </thead>\n",
       "  <tbody>\n",
       "    <tr>\n",
       "      <th>a</th>\n",
       "      <td>1</td>\n",
       "      <td>1.0</td>\n",
       "      <td>328.0</td>\n",
       "      <td>0.3</td>\n",
       "      <td>328.5</td>\n",
       "      <td>NaN</td>\n",
       "    </tr>\n",
       "    <tr>\n",
       "      <th>b</th>\n",
       "      <td>2</td>\n",
       "      <td>4.0</td>\n",
       "      <td>-4.0</td>\n",
       "      <td>0.0</td>\n",
       "      <td>0.0</td>\n",
       "      <td>NaN</td>\n",
       "    </tr>\n",
       "    <tr>\n",
       "      <th>c</th>\n",
       "      <td>30</td>\n",
       "      <td>90.0</td>\n",
       "      <td>690.0</td>\n",
       "      <td>0.7</td>\n",
       "      <td>766.5</td>\n",
       "      <td>-1.0</td>\n",
       "    </tr>\n",
       "    <tr>\n",
       "      <th>@RUB</th>\n",
       "      <td>1</td>\n",
       "      <td>1000.0</td>\n",
       "      <td>-1000.0</td>\n",
       "      <td>0.0</td>\n",
       "      <td>0.0</td>\n",
       "      <td>30.0</td>\n",
       "    </tr>\n",
       "  </tbody>\n",
       "</table>\n",
       "</div>"
      ],
      "text/plain": [
       "      lotPrice   value  valueChg  percentTgt  valueTgt  lotQtyChg\n",
       "a            1     1.0     328.0         0.3     328.5        NaN\n",
       "b            2     4.0      -4.0         0.0       0.0        NaN\n",
       "c           30    90.0     690.0         0.7     766.5       -1.0\n",
       "@RUB         1  1000.0   -1000.0         0.0       0.0       30.0"
      ]
     },
     "execution_count": 292,
     "metadata": {},
     "output_type": "execute_result"
    }
   ],
   "source": [
    "import numpy as np\n",
    "\n",
    "def stocksToLots(df):\n",
    "    df['lotQty'] = df['qty'] / df['lotSize']\n",
    "    df['lotPrice'] = df['price'] * df['lotSize']\n",
    "    df['value'] = df['lotQty']*df['lotPrice']\n",
    "    return df\n",
    "\n",
    "def applyLots(df):\n",
    "    df['valueChgNoLots'] = df['valueTgt1'] - df['value']\n",
    "    df['lotQtyChg'] = (df['valueChgNoLots'] / df['lotPrice']).apply(np.round)\n",
    "    df['valueChg'] = df['lotQtyChg'] * df['lotPrice']\n",
    "    return df\n",
    "\n",
    "def renameColumns(df):\n",
    "    rf = df[['lotPrice','value','valueChg']]\n",
    "    rf['percentTgt'] = df['percentTgt1'] \n",
    "    rf['valueTgt'] = df['valueTgt1'] \n",
    "    return rf\n",
    "\n",
    "def prelimChangeValue(df):\n",
    "    df['percentTgt1'] = df['percentTgt'] / df['percentTgt'].sum()\n",
    "    df['valueTgt1'] = df['percentTgt1'] * df['value'].sum()\n",
    "    df = applyLots(df)\n",
    "\n",
    "    cashChange = -  df['valueChg'].sum()+ df.at['@RUB','valueChg']\n",
    "    df.at['@RUB','valueChg'] = cashChange\n",
    "    df.at['@RUB','lotQtyChg'] = cashChange\n",
    "\n",
    "    return renameColumns(df)\n",
    "\n",
    "def adjustTolerance(df,tolerance):\n",
    "    pd.options.mode.chained_assignment = None  # default='warn'\n",
    "\n",
    "    df['percentTgt1'] = 0\n",
    "    df.loc[ abs(df['valueChg']) > tolerance, 'percentTgt1'] = df['percentTgt'] \n",
    "    df['percentTgt1'] = df['percentTgt1'] / df['percentTgt1'].sum()\n",
    "\n",
    "    df['valueTgt1'] = df['percentTgt1'] * df['value'].sum() \n",
    "    df = applyLots(df)\n",
    "\n",
    "    return renameColumns(df)\n",
    "\n",
    "def adjustRemainder(df):\n",
    "    maxChgIndex = df[df['valueChg']==df['valueChg'].max()].index[0]\n",
    "    cashAdj = np.ceil((df['valueChg'].sum() / df.at[maxChgIndex,'lotPrice']))\n",
    "    df.at[maxChgIndex,'lotQtyChg'] = -cashAdj\n",
    "    df.at['@RUB','lotQtyChg'] = cashAdj * df.at[maxChgIndex,'lotPrice']\n",
    "    return df\n",
    "\n",
    "# def finalChangeValue(df):\n",
    "#     df = df.fillna(0)\n",
    "#     df['lotQtyChg'] = df['lotQtyChg2']+df['lotQtyChg3']\n",
    "#     df['valueChg'] = df['lotQtyChg'] * df['lotPrice']\n",
    "#     df['qtyChg'] = df['lotQtyChg'] * df['lotSize']\n",
    "#     return df[['qtyChg','lotQtyChg','valueChg']]\n",
    "\n",
    "tolerance=200\n",
    "\n",
    "# use lots instead of single assets\n",
    "df = stocksToLots(df)\n",
    "\n",
    "# 1st pass -  no limit to sum of change\n",
    "df = prelimChangeValue(df)\n",
    "\n",
    "# # 2nd pass - limit changes by tolerance\n",
    "df = adjustTolerance(df,tolerance)\n",
    "\n",
    "# # 3rd pass - correct remainder due to rouding\n",
    "df = adjustRemainder(df)\n",
    "\n",
    "# df = finalChangeValue(df)\n",
    "\n",
    "df"
   ]
  },
  {
   "cell_type": "code",
   "execution_count": 293,
   "metadata": {},
   "outputs": [
    {
     "data": {
      "text/plain": [
       "np.float64(1095.0)"
      ]
     },
     "execution_count": 293,
     "metadata": {},
     "output_type": "execute_result"
    }
   ],
   "source": [
    "df['value'].sum()"
   ]
  },
  {
   "cell_type": "code",
   "execution_count": 294,
   "metadata": {},
   "outputs": [
    {
     "data": {
      "text/plain": [
       "np.float64(1095.0)"
      ]
     },
     "execution_count": 294,
     "metadata": {},
     "output_type": "execute_result"
    }
   ],
   "source": [
    "df['valueTgt'].sum()"
   ]
  },
  {
   "cell_type": "code",
   "execution_count": 295,
   "metadata": {},
   "outputs": [
    {
     "data": {
      "text/plain": [
       "np.float64(14.0)"
      ]
     },
     "execution_count": 295,
     "metadata": {},
     "output_type": "execute_result"
    }
   ],
   "source": [
    "df['valueChg'].sum()"
   ]
  },
  {
   "cell_type": "code",
   "execution_count": 296,
   "metadata": {},
   "outputs": [
    {
     "data": {
      "text/plain": [
       "np.float64(1.0)"
      ]
     },
     "execution_count": 296,
     "metadata": {},
     "output_type": "execute_result"
    }
   ],
   "source": [
    "df['percentTgt'].sum()"
   ]
  }
 ],
 "metadata": {
  "kernelspec": {
   "display_name": ".venv",
   "language": "python",
   "name": "python3"
  },
  "language_info": {
   "codemirror_mode": {
    "name": "ipython",
    "version": 3
   },
   "file_extension": ".py",
   "mimetype": "text/x-python",
   "name": "python",
   "nbconvert_exporter": "python",
   "pygments_lexer": "ipython3",
   "version": "3.12.4"
  }
 },
 "nbformat": 4,
 "nbformat_minor": 2
}
